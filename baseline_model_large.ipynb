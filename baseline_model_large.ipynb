{
 "cells": [
  {
   "cell_type": "code",
   "execution_count": 1,
   "id": "vital-maximum",
   "metadata": {},
   "outputs": [],
   "source": [
    "import os\n",
    "from glob import glob\n",
    "\n",
    "import numpy as np\n",
    "import pandas as pd"
   ]
  },
  {
   "cell_type": "code",
   "execution_count": 3,
   "id": "young-finance",
   "metadata": {},
   "outputs": [
    {
     "data": {
      "text/plain": [
       "['/scratch/work/courses/DSGA1004-2021/movielens/ml-latest/ratings.csv',\n",
       " '/scratch/work/courses/DSGA1004-2021/movielens/ml-latest/tags.csv',\n",
       " '/scratch/work/courses/DSGA1004-2021/movielens/ml-latest/genome-tags.csv',\n",
       " '/scratch/work/courses/DSGA1004-2021/movielens/ml-latest/genome-scores.csv',\n",
       " '/scratch/work/courses/DSGA1004-2021/movielens/ml-latest/links.csv',\n",
       " '/scratch/work/courses/DSGA1004-2021/movielens/ml-latest/movies.csv']"
      ]
     },
     "execution_count": 3,
     "metadata": {},
     "output_type": "execute_result"
    }
   ],
   "source": [
    "large_file = glob('/scratch/work/courses/DSGA1004-2021/movielens/ml-latest/*.csv')\n",
    "large_file"
   ]
  },
  {
   "cell_type": "code",
   "execution_count": 4,
   "id": "paperback-cable",
   "metadata": {},
   "outputs": [],
   "source": [
    "large_ratings = pd.read_csv(large_file[0])"
   ]
  },
  {
   "cell_type": "code",
   "execution_count": 5,
   "id": "acting-scheme",
   "metadata": {},
   "outputs": [
    {
     "data": {
      "text/html": [
       "<div>\n",
       "<style scoped>\n",
       "    .dataframe tbody tr th:only-of-type {\n",
       "        vertical-align: middle;\n",
       "    }\n",
       "\n",
       "    .dataframe tbody tr th {\n",
       "        vertical-align: top;\n",
       "    }\n",
       "\n",
       "    .dataframe thead th {\n",
       "        text-align: right;\n",
       "    }\n",
       "</style>\n",
       "<table border=\"1\" class=\"dataframe\">\n",
       "  <thead>\n",
       "    <tr style=\"text-align: right;\">\n",
       "      <th></th>\n",
       "      <th>userId</th>\n",
       "      <th>movieId</th>\n",
       "      <th>rating</th>\n",
       "      <th>timestamp</th>\n",
       "    </tr>\n",
       "  </thead>\n",
       "  <tbody>\n",
       "    <tr>\n",
       "      <th>0</th>\n",
       "      <td>1</td>\n",
       "      <td>307</td>\n",
       "      <td>3.5</td>\n",
       "      <td>1256677221</td>\n",
       "    </tr>\n",
       "    <tr>\n",
       "      <th>1</th>\n",
       "      <td>1</td>\n",
       "      <td>481</td>\n",
       "      <td>3.5</td>\n",
       "      <td>1256677456</td>\n",
       "    </tr>\n",
       "    <tr>\n",
       "      <th>2</th>\n",
       "      <td>1</td>\n",
       "      <td>1091</td>\n",
       "      <td>1.5</td>\n",
       "      <td>1256677471</td>\n",
       "    </tr>\n",
       "    <tr>\n",
       "      <th>3</th>\n",
       "      <td>1</td>\n",
       "      <td>1257</td>\n",
       "      <td>4.5</td>\n",
       "      <td>1256677460</td>\n",
       "    </tr>\n",
       "    <tr>\n",
       "      <th>4</th>\n",
       "      <td>1</td>\n",
       "      <td>1449</td>\n",
       "      <td>4.5</td>\n",
       "      <td>1256677264</td>\n",
       "    </tr>\n",
       "    <tr>\n",
       "      <th>...</th>\n",
       "      <td>...</td>\n",
       "      <td>...</td>\n",
       "      <td>...</td>\n",
       "      <td>...</td>\n",
       "    </tr>\n",
       "    <tr>\n",
       "      <th>27753439</th>\n",
       "      <td>283228</td>\n",
       "      <td>8542</td>\n",
       "      <td>4.5</td>\n",
       "      <td>1379882795</td>\n",
       "    </tr>\n",
       "    <tr>\n",
       "      <th>27753440</th>\n",
       "      <td>283228</td>\n",
       "      <td>8712</td>\n",
       "      <td>4.5</td>\n",
       "      <td>1379882751</td>\n",
       "    </tr>\n",
       "    <tr>\n",
       "      <th>27753441</th>\n",
       "      <td>283228</td>\n",
       "      <td>34405</td>\n",
       "      <td>4.5</td>\n",
       "      <td>1379882889</td>\n",
       "    </tr>\n",
       "    <tr>\n",
       "      <th>27753442</th>\n",
       "      <td>283228</td>\n",
       "      <td>44761</td>\n",
       "      <td>4.5</td>\n",
       "      <td>1354159524</td>\n",
       "    </tr>\n",
       "    <tr>\n",
       "      <th>27753443</th>\n",
       "      <td>283228</td>\n",
       "      <td>54286</td>\n",
       "      <td>4.5</td>\n",
       "      <td>1354159718</td>\n",
       "    </tr>\n",
       "  </tbody>\n",
       "</table>\n",
       "<p>27394982 rows × 4 columns</p>\n",
       "</div>"
      ],
      "text/plain": [
       "          userId  movieId  rating   timestamp\n",
       "0              1      307     3.5  1256677221\n",
       "1              1      481     3.5  1256677456\n",
       "2              1     1091     1.5  1256677471\n",
       "3              1     1257     4.5  1256677460\n",
       "4              1     1449     4.5  1256677264\n",
       "...          ...      ...     ...         ...\n",
       "27753439  283228     8542     4.5  1379882795\n",
       "27753440  283228     8712     4.5  1379882751\n",
       "27753441  283228    34405     4.5  1379882889\n",
       "27753442  283228    44761     4.5  1354159524\n",
       "27753443  283228    54286     4.5  1354159718\n",
       "\n",
       "[27394982 rows x 4 columns]"
      ]
     },
     "execution_count": 5,
     "metadata": {},
     "output_type": "execute_result"
    }
   ],
   "source": [
    "large_ratings_2 = large_ratings.groupby('userId').filter(lambda x: len(x) > 10)\n",
    "large_ratings_3 = large_ratings_2.groupby('movieId').filter(lambda x: len(x) > 10)\n",
    "large_ratings_3"
   ]
  },
  {
   "cell_type": "code",
   "execution_count": 6,
   "id": "norwegian-optics",
   "metadata": {},
   "outputs": [
    {
     "data": {
      "text/plain": [
       "96740025.0"
      ]
     },
     "execution_count": 6,
     "metadata": {},
     "output_type": "execute_result"
    }
   ],
   "source": [
    "large_ratings_3['rating'].sum()"
   ]
  },
  {
   "cell_type": "code",
   "execution_count": 7,
   "id": "mysterious-monte",
   "metadata": {},
   "outputs": [
    {
     "data": {
      "text/html": [
       "<div>\n",
       "<style scoped>\n",
       "    .dataframe tbody tr th:only-of-type {\n",
       "        vertical-align: middle;\n",
       "    }\n",
       "\n",
       "    .dataframe tbody tr th {\n",
       "        vertical-align: top;\n",
       "    }\n",
       "\n",
       "    .dataframe thead th {\n",
       "        text-align: right;\n",
       "    }\n",
       "</style>\n",
       "<table border=\"1\" class=\"dataframe\">\n",
       "  <thead>\n",
       "    <tr style=\"text-align: right;\">\n",
       "      <th></th>\n",
       "      <th>userId</th>\n",
       "      <th>movieId</th>\n",
       "      <th>rating</th>\n",
       "      <th>timestamp</th>\n",
       "    </tr>\n",
       "  </thead>\n",
       "  <tbody>\n",
       "    <tr>\n",
       "      <th>5510411</th>\n",
       "      <td>56769</td>\n",
       "      <td>1176</td>\n",
       "      <td>4.0</td>\n",
       "      <td>789652004</td>\n",
       "    </tr>\n",
       "    <tr>\n",
       "      <th>23237827</th>\n",
       "      <td>237556</td>\n",
       "      <td>21</td>\n",
       "      <td>3.0</td>\n",
       "      <td>789652009</td>\n",
       "    </tr>\n",
       "    <tr>\n",
       "      <th>23237833</th>\n",
       "      <td>237556</td>\n",
       "      <td>47</td>\n",
       "      <td>5.0</td>\n",
       "      <td>789652009</td>\n",
       "    </tr>\n",
       "    <tr>\n",
       "      <th>23237876</th>\n",
       "      <td>237556</td>\n",
       "      <td>1079</td>\n",
       "      <td>3.0</td>\n",
       "      <td>789652009</td>\n",
       "    </tr>\n",
       "    <tr>\n",
       "      <th>14712721</th>\n",
       "      <td>150485</td>\n",
       "      <td>1</td>\n",
       "      <td>4.0</td>\n",
       "      <td>822873600</td>\n",
       "    </tr>\n",
       "    <tr>\n",
       "      <th>...</th>\n",
       "      <td>...</td>\n",
       "      <td>...</td>\n",
       "      <td>...</td>\n",
       "      <td>...</td>\n",
       "    </tr>\n",
       "    <tr>\n",
       "      <th>27486116</th>\n",
       "      <td>280481</td>\n",
       "      <td>2294</td>\n",
       "      <td>2.0</td>\n",
       "      <td>1537945121</td>\n",
       "    </tr>\n",
       "    <tr>\n",
       "      <th>27486118</th>\n",
       "      <td>280481</td>\n",
       "      <td>2355</td>\n",
       "      <td>3.0</td>\n",
       "      <td>1537945123</td>\n",
       "    </tr>\n",
       "    <tr>\n",
       "      <th>27486035</th>\n",
       "      <td>280481</td>\n",
       "      <td>494</td>\n",
       "      <td>3.0</td>\n",
       "      <td>1537945127</td>\n",
       "    </tr>\n",
       "    <tr>\n",
       "      <th>8060104</th>\n",
       "      <td>82922</td>\n",
       "      <td>53519</td>\n",
       "      <td>4.0</td>\n",
       "      <td>1537945130</td>\n",
       "    </tr>\n",
       "    <tr>\n",
       "      <th>8060675</th>\n",
       "      <td>82922</td>\n",
       "      <td>167780</td>\n",
       "      <td>4.0</td>\n",
       "      <td>1537945149</td>\n",
       "    </tr>\n",
       "  </tbody>\n",
       "</table>\n",
       "<p>27394982 rows × 4 columns</p>\n",
       "</div>"
      ],
      "text/plain": [
       "          userId  movieId  rating   timestamp\n",
       "5510411    56769     1176     4.0   789652004\n",
       "23237827  237556       21     3.0   789652009\n",
       "23237833  237556       47     5.0   789652009\n",
       "23237876  237556     1079     3.0   789652009\n",
       "14712721  150485        1     4.0   822873600\n",
       "...          ...      ...     ...         ...\n",
       "27486116  280481     2294     2.0  1537945121\n",
       "27486118  280481     2355     3.0  1537945123\n",
       "27486035  280481      494     3.0  1537945127\n",
       "8060104    82922    53519     4.0  1537945130\n",
       "8060675    82922   167780     4.0  1537945149\n",
       "\n",
       "[27394982 rows x 4 columns]"
      ]
     },
     "execution_count": 7,
     "metadata": {},
     "output_type": "execute_result"
    }
   ],
   "source": [
    "df = large_ratings_3.sort_values(by='timestamp')\n",
    "df"
   ]
  },
  {
   "cell_type": "code",
   "execution_count": 8,
   "id": "furnished-marina",
   "metadata": {},
   "outputs": [],
   "source": [
    "train, val, test = np.split(df.sample(frac=1), [int(0.6*len(df)), int(0.8*len(df))])"
   ]
  },
  {
   "cell_type": "code",
   "execution_count": 9,
   "id": "acquired-operations",
   "metadata": {},
   "outputs": [],
   "source": [
    "val_sub1, val_sub2 = np.array_split(val, 2)\n",
    "test_sub1, test_sub2 = np.array_split(test, 2)"
   ]
  },
  {
   "cell_type": "code",
   "execution_count": 10,
   "id": "organized-pottery",
   "metadata": {},
   "outputs": [],
   "source": [
    "train = train.append(val_sub1)\n",
    "train = train.append(test_sub1)"
   ]
  },
  {
   "cell_type": "code",
   "execution_count": 11,
   "id": "alleged-cattle",
   "metadata": {},
   "outputs": [],
   "source": [
    "val = val_sub2\n",
    "test = test_sub2"
   ]
  },
  {
   "cell_type": "code",
   "execution_count": 12,
   "id": "sitting-found",
   "metadata": {},
   "outputs": [],
   "source": [
    "# train.to_csv('/scratch/xg693/train_small.txt', index=False, header=False, sep=' ')\n",
    "# val.to_csv('/scratch/xg693/val_small.txt', index=False, header=False, sep=' ')\n",
    "# test.to_csv('/scratch/xg693/test_small.txt', index=False, header=False, sep=' ')"
   ]
  },
  {
   "cell_type": "code",
   "execution_count": 13,
   "id": "monthly-membership",
   "metadata": {},
   "outputs": [
    {
     "data": {
      "text/html": [
       "<div>\n",
       "<style scoped>\n",
       "    .dataframe tbody tr th:only-of-type {\n",
       "        vertical-align: middle;\n",
       "    }\n",
       "\n",
       "    .dataframe tbody tr th {\n",
       "        vertical-align: top;\n",
       "    }\n",
       "\n",
       "    .dataframe thead th {\n",
       "        text-align: right;\n",
       "    }\n",
       "</style>\n",
       "<table border=\"1\" class=\"dataframe\">\n",
       "  <thead>\n",
       "    <tr style=\"text-align: right;\">\n",
       "      <th></th>\n",
       "      <th>userId</th>\n",
       "      <th>movieId</th>\n",
       "      <th>rating</th>\n",
       "      <th>timestamp</th>\n",
       "    </tr>\n",
       "  </thead>\n",
       "  <tbody>\n",
       "    <tr>\n",
       "      <th>3694107</th>\n",
       "      <td>37910</td>\n",
       "      <td>1231</td>\n",
       "      <td>4.0</td>\n",
       "      <td>1377629409</td>\n",
       "    </tr>\n",
       "    <tr>\n",
       "      <th>5733652</th>\n",
       "      <td>59067</td>\n",
       "      <td>914</td>\n",
       "      <td>5.0</td>\n",
       "      <td>1017530125</td>\n",
       "    </tr>\n",
       "    <tr>\n",
       "      <th>15418825</th>\n",
       "      <td>157601</td>\n",
       "      <td>1293</td>\n",
       "      <td>4.0</td>\n",
       "      <td>1226359822</td>\n",
       "    </tr>\n",
       "    <tr>\n",
       "      <th>11118879</th>\n",
       "      <td>114166</td>\n",
       "      <td>1673</td>\n",
       "      <td>4.0</td>\n",
       "      <td>1469038910</td>\n",
       "    </tr>\n",
       "    <tr>\n",
       "      <th>27013313</th>\n",
       "      <td>275771</td>\n",
       "      <td>2959</td>\n",
       "      <td>3.5</td>\n",
       "      <td>1448130923</td>\n",
       "    </tr>\n",
       "    <tr>\n",
       "      <th>...</th>\n",
       "      <td>...</td>\n",
       "      <td>...</td>\n",
       "      <td>...</td>\n",
       "      <td>...</td>\n",
       "    </tr>\n",
       "    <tr>\n",
       "      <th>243835</th>\n",
       "      <td>2395</td>\n",
       "      <td>1208</td>\n",
       "      <td>5.0</td>\n",
       "      <td>899414693</td>\n",
       "    </tr>\n",
       "    <tr>\n",
       "      <th>10803850</th>\n",
       "      <td>111114</td>\n",
       "      <td>4886</td>\n",
       "      <td>4.0</td>\n",
       "      <td>1392690415</td>\n",
       "    </tr>\n",
       "    <tr>\n",
       "      <th>11706717</th>\n",
       "      <td>120070</td>\n",
       "      <td>2336</td>\n",
       "      <td>4.5</td>\n",
       "      <td>1287016997</td>\n",
       "    </tr>\n",
       "    <tr>\n",
       "      <th>19570162</th>\n",
       "      <td>199657</td>\n",
       "      <td>1</td>\n",
       "      <td>4.0</td>\n",
       "      <td>860796913</td>\n",
       "    </tr>\n",
       "    <tr>\n",
       "      <th>4777604</th>\n",
       "      <td>48961</td>\n",
       "      <td>3991</td>\n",
       "      <td>3.0</td>\n",
       "      <td>1512750481</td>\n",
       "    </tr>\n",
       "  </tbody>\n",
       "</table>\n",
       "<p>21915986 rows × 4 columns</p>\n",
       "</div>"
      ],
      "text/plain": [
       "          userId  movieId  rating   timestamp\n",
       "3694107    37910     1231     4.0  1377629409\n",
       "5733652    59067      914     5.0  1017530125\n",
       "15418825  157601     1293     4.0  1226359822\n",
       "11118879  114166     1673     4.0  1469038910\n",
       "27013313  275771     2959     3.5  1448130923\n",
       "...          ...      ...     ...         ...\n",
       "243835      2395     1208     5.0   899414693\n",
       "10803850  111114     4886     4.0  1392690415\n",
       "11706717  120070     2336     4.5  1287016997\n",
       "19570162  199657        1     4.0   860796913\n",
       "4777604    48961     3991     3.0  1512750481\n",
       "\n",
       "[21915986 rows x 4 columns]"
      ]
     },
     "execution_count": 13,
     "metadata": {},
     "output_type": "execute_result"
    }
   ],
   "source": [
    "train"
   ]
  },
  {
   "cell_type": "code",
   "execution_count": 14,
   "id": "loved-bolivia",
   "metadata": {},
   "outputs": [],
   "source": [
    "train_rating_sum = train.groupby('movieId')['rating'].sum() \n",
    "train_rating = train_rating_sum / train.groupby('movieId').size()"
   ]
  },
  {
   "cell_type": "code",
   "execution_count": 15,
   "id": "external-intranet",
   "metadata": {},
   "outputs": [],
   "source": [
    "import operator\n",
    "\n",
    "sorted_train = dict(sorted(train_rating.items(), key=operator.itemgetter(1), reverse=True))"
   ]
  },
  {
   "cell_type": "code",
   "execution_count": 16,
   "id": "alpha-pollution",
   "metadata": {},
   "outputs": [],
   "source": [
    "movie_100 = list(sorted_train.keys())[: 100]"
   ]
  },
  {
   "cell_type": "code",
   "execution_count": 17,
   "id": "corresponding-brunswick",
   "metadata": {},
   "outputs": [],
   "source": [
    "val_new = val[val['movieId'].isin(movie_100)]\n",
    "test_new = test[test['movieId'].isin(movie_100)]"
   ]
  },
  {
   "cell_type": "code",
   "execution_count": 18,
   "id": "established-yellow",
   "metadata": {},
   "outputs": [],
   "source": [
    "def MAP_rmse(df):\n",
    "    cnt = 0\n",
    "    re = 0\n",
    "\n",
    "    for i in df['userId'].unique():\n",
    "        table = df[df['userId']==i]\n",
    "        temp = table.movieId.to_list()\n",
    "\n",
    "        for j in temp:\n",
    "            rating = table[table['movieId']==j].rating.to_list()[0]\n",
    "            re = re + (rating - sorted_train.get(j))   \n",
    "            cnt = cnt + 1\n",
    "            \n",
    "    print(\"MAP score: \", str(re / cnt), \"\\nRMSE score: \", str(re ** 2 / cnt))"
   ]
  },
  {
   "cell_type": "code",
   "execution_count": 19,
   "id": "contained-tamil",
   "metadata": {},
   "outputs": [
    {
     "name": "stdout",
     "output_type": "stream",
     "text": [
      "MAP score:  -0.0014647713069120276 \n",
      "RMSE score:  0.28276483657382107\n"
     ]
    }
   ],
   "source": [
    "# Evaluation for validation \n",
    "MAP_rmse(val_new)"
   ]
  },
  {
   "cell_type": "code",
   "execution_count": 20,
   "id": "strategic-territory",
   "metadata": {},
   "outputs": [
    {
     "name": "stdout",
     "output_type": "stream",
     "text": [
      "MAP score:  -0.0021253892143432537 \n",
      "RMSE score:  0.5955490699943393\n"
     ]
    }
   ],
   "source": [
    "# Evaluation for test\n",
    "MAP_rmse(test_new)"
   ]
  }
 ],
 "metadata": {
  "kernelspec": {
   "display_name": "Python 3",
   "language": "python",
   "name": "python3"
  },
  "language_info": {
   "codemirror_mode": {
    "name": "ipython",
    "version": 3
   },
   "file_extension": ".py",
   "mimetype": "text/x-python",
   "name": "python",
   "nbconvert_exporter": "python",
   "pygments_lexer": "ipython3",
   "version": "3.8.5"
  }
 },
 "nbformat": 4,
 "nbformat_minor": 5
}
