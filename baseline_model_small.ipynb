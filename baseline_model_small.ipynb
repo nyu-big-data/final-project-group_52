{
 "cells": [
  {
   "cell_type": "code",
   "execution_count": 1,
   "id": "interpreted-loading",
   "metadata": {},
   "outputs": [],
   "source": [
    "import os\n",
    "from glob import glob\n",
    "\n",
    "import numpy as np\n",
    "import pandas as pd"
   ]
  },
  {
   "cell_type": "code",
   "execution_count": 2,
   "id": "representative-creativity",
   "metadata": {},
   "outputs": [
    {
     "data": {
      "text/plain": [
       "['/scratch/work/courses/DSGA1004-2021/movielens/ml-latest-small/ratings.csv',\n",
       " '/scratch/work/courses/DSGA1004-2021/movielens/ml-latest-small/tags.csv',\n",
       " '/scratch/work/courses/DSGA1004-2021/movielens/ml-latest-small/links.csv',\n",
       " '/scratch/work/courses/DSGA1004-2021/movielens/ml-latest-small/movies.csv']"
      ]
     },
     "execution_count": 2,
     "metadata": {},
     "output_type": "execute_result"
    }
   ],
   "source": [
    "small_file = glob('/scratch/work/courses/DSGA1004-2021/movielens/ml-latest-small/*.csv')\n",
    "small_file"
   ]
  },
  {
   "cell_type": "code",
   "execution_count": 3,
   "id": "proof-loading",
   "metadata": {},
   "outputs": [],
   "source": [
    "small_ratings = pd.read_csv(small_file[0])"
   ]
  },
  {
   "cell_type": "code",
   "execution_count": 4,
   "id": "cellular-curve",
   "metadata": {},
   "outputs": [
    {
     "data": {
      "text/html": [
       "<div>\n",
       "<style scoped>\n",
       "    .dataframe tbody tr th:only-of-type {\n",
       "        vertical-align: middle;\n",
       "    }\n",
       "\n",
       "    .dataframe tbody tr th {\n",
       "        vertical-align: top;\n",
       "    }\n",
       "\n",
       "    .dataframe thead th {\n",
       "        text-align: right;\n",
       "    }\n",
       "</style>\n",
       "<table border=\"1\" class=\"dataframe\">\n",
       "  <thead>\n",
       "    <tr style=\"text-align: right;\">\n",
       "      <th></th>\n",
       "      <th>userId</th>\n",
       "      <th>movieId</th>\n",
       "      <th>rating</th>\n",
       "      <th>timestamp</th>\n",
       "    </tr>\n",
       "  </thead>\n",
       "  <tbody>\n",
       "    <tr>\n",
       "      <th>0</th>\n",
       "      <td>1</td>\n",
       "      <td>1</td>\n",
       "      <td>4.0</td>\n",
       "      <td>964982703</td>\n",
       "    </tr>\n",
       "    <tr>\n",
       "      <th>1</th>\n",
       "      <td>1</td>\n",
       "      <td>3</td>\n",
       "      <td>4.0</td>\n",
       "      <td>964981247</td>\n",
       "    </tr>\n",
       "    <tr>\n",
       "      <th>2</th>\n",
       "      <td>1</td>\n",
       "      <td>6</td>\n",
       "      <td>4.0</td>\n",
       "      <td>964982224</td>\n",
       "    </tr>\n",
       "    <tr>\n",
       "      <th>3</th>\n",
       "      <td>1</td>\n",
       "      <td>47</td>\n",
       "      <td>5.0</td>\n",
       "      <td>964983815</td>\n",
       "    </tr>\n",
       "    <tr>\n",
       "      <th>4</th>\n",
       "      <td>1</td>\n",
       "      <td>50</td>\n",
       "      <td>5.0</td>\n",
       "      <td>964982931</td>\n",
       "    </tr>\n",
       "    <tr>\n",
       "      <th>...</th>\n",
       "      <td>...</td>\n",
       "      <td>...</td>\n",
       "      <td>...</td>\n",
       "      <td>...</td>\n",
       "    </tr>\n",
       "    <tr>\n",
       "      <th>100818</th>\n",
       "      <td>610</td>\n",
       "      <td>159093</td>\n",
       "      <td>3.0</td>\n",
       "      <td>1493847704</td>\n",
       "    </tr>\n",
       "    <tr>\n",
       "      <th>100829</th>\n",
       "      <td>610</td>\n",
       "      <td>164179</td>\n",
       "      <td>5.0</td>\n",
       "      <td>1493845631</td>\n",
       "    </tr>\n",
       "    <tr>\n",
       "      <th>100830</th>\n",
       "      <td>610</td>\n",
       "      <td>166528</td>\n",
       "      <td>4.0</td>\n",
       "      <td>1493879365</td>\n",
       "    </tr>\n",
       "    <tr>\n",
       "      <th>100833</th>\n",
       "      <td>610</td>\n",
       "      <td>168250</td>\n",
       "      <td>5.0</td>\n",
       "      <td>1494273047</td>\n",
       "    </tr>\n",
       "    <tr>\n",
       "      <th>100834</th>\n",
       "      <td>610</td>\n",
       "      <td>168252</td>\n",
       "      <td>5.0</td>\n",
       "      <td>1493846352</td>\n",
       "    </tr>\n",
       "  </tbody>\n",
       "</table>\n",
       "<p>79636 rows × 4 columns</p>\n",
       "</div>"
      ],
      "text/plain": [
       "        userId  movieId  rating   timestamp\n",
       "0            1        1     4.0   964982703\n",
       "1            1        3     4.0   964981247\n",
       "2            1        6     4.0   964982224\n",
       "3            1       47     5.0   964983815\n",
       "4            1       50     5.0   964982931\n",
       "...        ...      ...     ...         ...\n",
       "100818     610   159093     3.0  1493847704\n",
       "100829     610   164179     5.0  1493845631\n",
       "100830     610   166528     4.0  1493879365\n",
       "100833     610   168250     5.0  1494273047\n",
       "100834     610   168252     5.0  1493846352\n",
       "\n",
       "[79636 rows x 4 columns]"
      ]
     },
     "execution_count": 4,
     "metadata": {},
     "output_type": "execute_result"
    }
   ],
   "source": [
    "small_ratings_2 = small_ratings.groupby('userId').filter(lambda x: len(x) > 10)\n",
    "small_ratings_3 = small_ratings_2.groupby('movieId').filter(lambda x: len(x) > 10)\n",
    "small_ratings_3"
   ]
  },
  {
   "cell_type": "code",
   "execution_count": 5,
   "id": "great-hampton",
   "metadata": {},
   "outputs": [
    {
     "data": {
      "text/plain": [
       "285052.5"
      ]
     },
     "execution_count": 5,
     "metadata": {},
     "output_type": "execute_result"
    }
   ],
   "source": [
    "small_ratings_3['rating'].sum()"
   ]
  },
  {
   "cell_type": "code",
   "execution_count": 6,
   "id": "biological-organizer",
   "metadata": {},
   "outputs": [
    {
     "data": {
      "text/html": [
       "<div>\n",
       "<style scoped>\n",
       "    .dataframe tbody tr th:only-of-type {\n",
       "        vertical-align: middle;\n",
       "    }\n",
       "\n",
       "    .dataframe tbody tr th {\n",
       "        vertical-align: top;\n",
       "    }\n",
       "\n",
       "    .dataframe thead th {\n",
       "        text-align: right;\n",
       "    }\n",
       "</style>\n",
       "<table border=\"1\" class=\"dataframe\">\n",
       "  <thead>\n",
       "    <tr style=\"text-align: right;\">\n",
       "      <th></th>\n",
       "      <th>userId</th>\n",
       "      <th>movieId</th>\n",
       "      <th>rating</th>\n",
       "      <th>timestamp</th>\n",
       "    </tr>\n",
       "  </thead>\n",
       "  <tbody>\n",
       "    <tr>\n",
       "      <th>66719</th>\n",
       "      <td>429</td>\n",
       "      <td>595</td>\n",
       "      <td>5.0</td>\n",
       "      <td>828124615</td>\n",
       "    </tr>\n",
       "    <tr>\n",
       "      <th>66678</th>\n",
       "      <td>429</td>\n",
       "      <td>218</td>\n",
       "      <td>4.0</td>\n",
       "      <td>828124615</td>\n",
       "    </tr>\n",
       "    <tr>\n",
       "      <th>66679</th>\n",
       "      <td>429</td>\n",
       "      <td>222</td>\n",
       "      <td>4.0</td>\n",
       "      <td>828124615</td>\n",
       "    </tr>\n",
       "    <tr>\n",
       "      <th>66669</th>\n",
       "      <td>429</td>\n",
       "      <td>165</td>\n",
       "      <td>4.0</td>\n",
       "      <td>828124615</td>\n",
       "    </tr>\n",
       "    <tr>\n",
       "      <th>66667</th>\n",
       "      <td>429</td>\n",
       "      <td>161</td>\n",
       "      <td>5.0</td>\n",
       "      <td>828124615</td>\n",
       "    </tr>\n",
       "    <tr>\n",
       "      <th>...</th>\n",
       "      <td>...</td>\n",
       "      <td>...</td>\n",
       "      <td>...</td>\n",
       "      <td>...</td>\n",
       "    </tr>\n",
       "    <tr>\n",
       "      <th>39172</th>\n",
       "      <td>272</td>\n",
       "      <td>158238</td>\n",
       "      <td>4.0</td>\n",
       "      <td>1537475893</td>\n",
       "    </tr>\n",
       "    <tr>\n",
       "      <th>30174</th>\n",
       "      <td>210</td>\n",
       "      <td>177765</td>\n",
       "      <td>5.0</td>\n",
       "      <td>1537632257</td>\n",
       "    </tr>\n",
       "    <tr>\n",
       "      <th>30151</th>\n",
       "      <td>210</td>\n",
       "      <td>122916</td>\n",
       "      <td>4.5</td>\n",
       "      <td>1537632280</td>\n",
       "    </tr>\n",
       "    <tr>\n",
       "      <th>30150</th>\n",
       "      <td>210</td>\n",
       "      <td>122906</td>\n",
       "      <td>4.5</td>\n",
       "      <td>1537632293</td>\n",
       "    </tr>\n",
       "    <tr>\n",
       "      <th>81092</th>\n",
       "      <td>514</td>\n",
       "      <td>162</td>\n",
       "      <td>4.0</td>\n",
       "      <td>1537799250</td>\n",
       "    </tr>\n",
       "  </tbody>\n",
       "</table>\n",
       "<p>79636 rows × 4 columns</p>\n",
       "</div>"
      ],
      "text/plain": [
       "       userId  movieId  rating   timestamp\n",
       "66719     429      595     5.0   828124615\n",
       "66678     429      218     4.0   828124615\n",
       "66679     429      222     4.0   828124615\n",
       "66669     429      165     4.0   828124615\n",
       "66667     429      161     5.0   828124615\n",
       "...       ...      ...     ...         ...\n",
       "39172     272   158238     4.0  1537475893\n",
       "30174     210   177765     5.0  1537632257\n",
       "30151     210   122916     4.5  1537632280\n",
       "30150     210   122906     4.5  1537632293\n",
       "81092     514      162     4.0  1537799250\n",
       "\n",
       "[79636 rows x 4 columns]"
      ]
     },
     "execution_count": 6,
     "metadata": {},
     "output_type": "execute_result"
    }
   ],
   "source": [
    "df = small_ratings_3.sort_values(by='timestamp')\n",
    "df"
   ]
  },
  {
   "cell_type": "code",
   "execution_count": 7,
   "id": "amino-croatia",
   "metadata": {},
   "outputs": [],
   "source": [
    "train, val, test = np.split(df.sample(frac=1), [int(0.6*len(df)), int(0.8*len(df))])"
   ]
  },
  {
   "cell_type": "code",
   "execution_count": 8,
   "id": "cubic-quilt",
   "metadata": {},
   "outputs": [],
   "source": [
    "val_sub1, val_sub2 = np.array_split(val, 2)\n",
    "test_sub1, test_sub2 = np.array_split(test, 2)"
   ]
  },
  {
   "cell_type": "code",
   "execution_count": 9,
   "id": "environmental-wheat",
   "metadata": {},
   "outputs": [],
   "source": [
    "train = train.append(val_sub1)\n",
    "train = train.append(test_sub1)"
   ]
  },
  {
   "cell_type": "code",
   "execution_count": 10,
   "id": "stone-software",
   "metadata": {},
   "outputs": [],
   "source": [
    "val = val_sub2\n",
    "test = test_sub2"
   ]
  },
  {
   "cell_type": "code",
   "execution_count": 11,
   "id": "commercial-graduate",
   "metadata": {},
   "outputs": [],
   "source": [
    "# train.to_csv('/scratch/xg693/train_small.txt', index=False, header=False, sep=' ')\n",
    "# val.to_csv('/scratch/xg693/val_small.txt', index=False, header=False, sep=' ')\n",
    "# test.to_csv('/scratch/xg693/test_small.txt', index=False, header=False, sep=' ')"
   ]
  },
  {
   "cell_type": "code",
   "execution_count": 12,
   "id": "legislative-cancellation",
   "metadata": {},
   "outputs": [
    {
     "data": {
      "text/html": [
       "<div>\n",
       "<style scoped>\n",
       "    .dataframe tbody tr th:only-of-type {\n",
       "        vertical-align: middle;\n",
       "    }\n",
       "\n",
       "    .dataframe tbody tr th {\n",
       "        vertical-align: top;\n",
       "    }\n",
       "\n",
       "    .dataframe thead th {\n",
       "        text-align: right;\n",
       "    }\n",
       "</style>\n",
       "<table border=\"1\" class=\"dataframe\">\n",
       "  <thead>\n",
       "    <tr style=\"text-align: right;\">\n",
       "      <th></th>\n",
       "      <th>userId</th>\n",
       "      <th>movieId</th>\n",
       "      <th>rating</th>\n",
       "      <th>timestamp</th>\n",
       "    </tr>\n",
       "  </thead>\n",
       "  <tbody>\n",
       "    <tr>\n",
       "      <th>45946</th>\n",
       "      <td>305</td>\n",
       "      <td>16</td>\n",
       "      <td>4.5</td>\n",
       "      <td>1460136042</td>\n",
       "    </tr>\n",
       "    <tr>\n",
       "      <th>81409</th>\n",
       "      <td>514</td>\n",
       "      <td>76093</td>\n",
       "      <td>4.0</td>\n",
       "      <td>1533872585</td>\n",
       "    </tr>\n",
       "    <tr>\n",
       "      <th>6098</th>\n",
       "      <td>42</td>\n",
       "      <td>2100</td>\n",
       "      <td>4.0</td>\n",
       "      <td>996258715</td>\n",
       "    </tr>\n",
       "    <tr>\n",
       "      <th>30043</th>\n",
       "      <td>210</td>\n",
       "      <td>260</td>\n",
       "      <td>5.0</td>\n",
       "      <td>1473705468</td>\n",
       "    </tr>\n",
       "    <tr>\n",
       "      <th>33431</th>\n",
       "      <td>226</td>\n",
       "      <td>6323</td>\n",
       "      <td>4.0</td>\n",
       "      <td>1139535404</td>\n",
       "    </tr>\n",
       "    <tr>\n",
       "      <th>...</th>\n",
       "      <td>...</td>\n",
       "      <td>...</td>\n",
       "      <td>...</td>\n",
       "      <td>...</td>\n",
       "    </tr>\n",
       "    <tr>\n",
       "      <th>18335</th>\n",
       "      <td>116</td>\n",
       "      <td>2915</td>\n",
       "      <td>3.0</td>\n",
       "      <td>1337196211</td>\n",
       "    </tr>\n",
       "    <tr>\n",
       "      <th>14268</th>\n",
       "      <td>91</td>\n",
       "      <td>1036</td>\n",
       "      <td>4.0</td>\n",
       "      <td>1112713347</td>\n",
       "    </tr>\n",
       "    <tr>\n",
       "      <th>79261</th>\n",
       "      <td>491</td>\n",
       "      <td>8529</td>\n",
       "      <td>5.0</td>\n",
       "      <td>1526672907</td>\n",
       "    </tr>\n",
       "    <tr>\n",
       "      <th>37528</th>\n",
       "      <td>253</td>\n",
       "      <td>3083</td>\n",
       "      <td>5.0</td>\n",
       "      <td>1286644217</td>\n",
       "    </tr>\n",
       "    <tr>\n",
       "      <th>18819</th>\n",
       "      <td>121</td>\n",
       "      <td>457</td>\n",
       "      <td>3.0</td>\n",
       "      <td>847655927</td>\n",
       "    </tr>\n",
       "  </tbody>\n",
       "</table>\n",
       "<p>63709 rows × 4 columns</p>\n",
       "</div>"
      ],
      "text/plain": [
       "       userId  movieId  rating   timestamp\n",
       "45946     305       16     4.5  1460136042\n",
       "81409     514    76093     4.0  1533872585\n",
       "6098       42     2100     4.0   996258715\n",
       "30043     210      260     5.0  1473705468\n",
       "33431     226     6323     4.0  1139535404\n",
       "...       ...      ...     ...         ...\n",
       "18335     116     2915     3.0  1337196211\n",
       "14268      91     1036     4.0  1112713347\n",
       "79261     491     8529     5.0  1526672907\n",
       "37528     253     3083     5.0  1286644217\n",
       "18819     121      457     3.0   847655927\n",
       "\n",
       "[63709 rows x 4 columns]"
      ]
     },
     "execution_count": 12,
     "metadata": {},
     "output_type": "execute_result"
    }
   ],
   "source": [
    "train"
   ]
  },
  {
   "cell_type": "code",
   "execution_count": 13,
   "id": "dominant-church",
   "metadata": {},
   "outputs": [],
   "source": [
    "train_rating_sum = train.groupby('movieId')['rating'].sum() \n",
    "train_rating = train_rating_sum / train.groupby('movieId').size()"
   ]
  },
  {
   "cell_type": "code",
   "execution_count": 14,
   "id": "contemporary-classic",
   "metadata": {},
   "outputs": [],
   "source": [
    "import operator\n",
    "\n",
    "sorted_train = dict(sorted(train_rating.items(), key=operator.itemgetter(1), reverse=True))"
   ]
  },
  {
   "cell_type": "code",
   "execution_count": 15,
   "id": "optional-coordination",
   "metadata": {},
   "outputs": [],
   "source": [
    "movie_100 = list(sorted_train.keys())[: 100]"
   ]
  },
  {
   "cell_type": "code",
   "execution_count": 16,
   "id": "smart-clone",
   "metadata": {},
   "outputs": [],
   "source": [
    "val_new = val[val['movieId'].isin(movie_100)]\n",
    "test_new = test[test['movieId'].isin(movie_100)]"
   ]
  },
  {
   "cell_type": "code",
   "execution_count": 17,
   "id": "respiratory-document",
   "metadata": {},
   "outputs": [],
   "source": [
    "def MAP_rmse(df):\n",
    "    cnt = 0\n",
    "    re = 0\n",
    "\n",
    "    for i in df['userId'].unique():\n",
    "        table = df[df['userId']==i]\n",
    "        temp = table.movieId.to_list()\n",
    "\n",
    "        for j in temp:\n",
    "            rating = table[table['movieId']==j].rating.to_list()[0]\n",
    "            re = re + (rating - sorted_train.get(j))   \n",
    "            cnt = cnt + 1\n",
    "            \n",
    "    print(\"MAP score: \", str(re / cnt), \"\\nRMSE score: \", str(re ** 2 / cnt))"
   ]
  },
  {
   "cell_type": "code",
   "execution_count": 18,
   "id": "dutch-community",
   "metadata": {},
   "outputs": [
    {
     "name": "stdout",
     "output_type": "stream",
     "text": [
      "MAP score:  -0.06183727308937423 \n",
      "RMSE score:  1.961634200025611\n"
     ]
    }
   ],
   "source": [
    "# Evaluation for validation \n",
    "MAP_rmse(val_new)"
   ]
  },
  {
   "cell_type": "code",
   "execution_count": 19,
   "id": "breathing-honolulu",
   "metadata": {},
   "outputs": [
    {
     "name": "stdout",
     "output_type": "stream",
     "text": [
      "MAP score:  -0.048644156009237216 \n",
      "RMSE score:  1.3203696839288632\n"
     ]
    }
   ],
   "source": [
    "# Evaluation for test\n",
    "MAP_rmse(test_new)"
   ]
  },
  {
   "cell_type": "code",
   "execution_count": null,
   "id": "forbidden-tuesday",
   "metadata": {},
   "outputs": [],
   "source": []
  }
 ],
 "metadata": {
  "kernelspec": {
   "display_name": "Python 3",
   "language": "python",
   "name": "python3"
  },
  "language_info": {
   "codemirror_mode": {
    "name": "ipython",
    "version": 3
   },
   "file_extension": ".py",
   "mimetype": "text/x-python",
   "name": "python",
   "nbconvert_exporter": "python",
   "pygments_lexer": "ipython3",
   "version": "3.8.5"
  }
 },
 "nbformat": 4,
 "nbformat_minor": 5
}
