{
 "cells": [
  {
   "cell_type": "code",
   "execution_count": 1,
   "id": "guilty-oliver",
   "metadata": {},
   "outputs": [],
   "source": [
    "from lightfm import LightFM\n",
    "import pandas as pd\n",
    "import numpy as np\n",
    "import scipy as sp\n",
    "from lightfm.evaluation import precision_at_k\n",
    "from time import time"
   ]
  },
  {
   "cell_type": "code",
   "execution_count": 2,
   "id": "subject-parliament",
   "metadata": {},
   "outputs": [],
   "source": [
    "# load data\n",
    "train_small = pd.read_csv(\"/scratch/ll4764/train_small.txt\", sep=\" \", header=None, names=[\"user_id\", \"movie_id\", \"rating\", \"timestamp\"])\n",
    "test_small = pd.read_csv(\"/scratch/ll4764/test_small.txt\", sep=\" \", header=None, names=[\"user_id\", \"movie_id\", \"rating\", \"timestamp\"])\n",
    "val_small = pd.read_csv(\"/scratch/ll4764/val_small.txt\", sep=\" \", header=None, names=[\"user_id\", \"movie_id\", \"rating\", \"timestamp\"])\n"
   ]
  },
  {
   "cell_type": "code",
   "execution_count": 3,
   "id": "greenhouse-gibson",
   "metadata": {},
   "outputs": [],
   "source": [
    "del train_small[\"timestamp\"]\n",
    "del test_small[\"timestamp\"]\n",
    "del val_small[\"timestamp\"]"
   ]
  },
  {
   "cell_type": "code",
   "execution_count": 4,
   "id": "guided-chester",
   "metadata": {},
   "outputs": [],
   "source": [
    "# convert data to coo matrix\n",
    "user_len = max(max(train_small[\"user_id\"].max(), test_small[\"user_id\"].max()), val_small[\"user_id\"].max()) + 1\n",
    "\n",
    "movie_len = max(max(train_small[\"movie_id\"].max(), test_small[\"movie_id\"].max()), val_small[\"movie_id\"].max()) + 1\n",
    "\n",
    "mat = sp.sparse.lil_matrix((user_len, movie_len), dtype=np.float32)\n",
    "\n",
    "for _, row in train_small.iterrows():\n",
    "    mat[int(row['user_id']), int(row['movie_id'])] = row[\"rating\"]\n",
    "\n",
    "train_data = mat.tocoo()\n",
    "\n",
    "mat = sp.sparse.lil_matrix((user_len, movie_len), dtype=np.float32)\n",
    "\n",
    "for _, row in test_small.iterrows():\n",
    "    mat[int(row['user_id']), int(row['movie_id'])] = row[\"rating\"]\n",
    "\n",
    "test_data = mat.tocoo()\n",
    "\n",
    "mat = sp.sparse.lil_matrix((user_len, movie_len), dtype=np.float32)\n",
    "\n",
    "for _, row in val_small.iterrows():\n",
    "    mat[int(row['user_id']), int(row['movie_id'])] = row[\"rating\"]\n",
    "\n",
    "val_data = mat.tocoo()"
   ]
  },
  {
   "cell_type": "code",
   "execution_count": 5,
   "id": "extreme-colon",
   "metadata": {},
   "outputs": [
    {
     "name": "stdout",
     "output_type": "stream",
     "text": [
      "0.07\n",
      "0.03214527\n"
     ]
    }
   ],
   "source": [
    "best_lr = 0\n",
    "best_precision = 0\n",
    "for lr in [0.01, 0.02, 0.03, 0.04, 0.05, 0.06, 0.07, 0.08, 0.02, 0.09, 0.1]:\n",
    "    model = LightFM(loss='warp', learning_rate=lr)\n",
    "    model.fit(train_data, epochs=30, num_threads=7)\n",
    "    test_precision = precision_at_k(model, test_data, k=100).mean()\n",
    "    if test_precision > best_precision:\n",
    "        best_precision = test_precision\n",
    "        best_lr = lr\n",
    "\n",
    "print(best_lr)\n",
    "print(best_precision)"
   ]
  },
  {
   "cell_type": "code",
   "execution_count": 6,
   "id": "brown-configuration",
   "metadata": {},
   "outputs": [
    {
     "name": "stdout",
     "output_type": "stream",
     "text": [
      "0.02\n",
      "0.026841216\n"
     ]
    }
   ],
   "source": [
    "best_lr = 0\n",
    "best_precision = 0\n",
    "for lr in [0.01, 0.02, 0.03, 0.04, 0.05, 0.06, 0.07, 0.08, 0.02, 0.09, 0.1]:\n",
    "    model = LightFM(loss='logistic', learning_rate=lr)\n",
    "    model.fit(train_data, epochs=30, num_threads=7)\n",
    "    test_precision = precision_at_k(model, test_data, k=100).mean()\n",
    "    if test_precision > best_precision:\n",
    "        best_precision = test_precision\n",
    "        best_lr = lr\n",
    "\n",
    "print(best_lr)\n",
    "print(best_precision)"
   ]
  },
  {
   "cell_type": "code",
   "execution_count": 7,
   "id": "superb-valve",
   "metadata": {},
   "outputs": [
    {
     "name": "stdout",
     "output_type": "stream",
     "text": [
      "0.01\n",
      "0.028885135\n"
     ]
    }
   ],
   "source": [
    "best_lr = 0\n",
    "best_precision = 0\n",
    "for lr in [0.01, 0.02, 0.03, 0.04, 0.05, 0.06, 0.07, 0.08, 0.02, 0.09, 0.1]:\n",
    "    model = LightFM(loss='bpr', learning_rate=lr)\n",
    "    model.fit(train_data, epochs=30, num_threads=7)\n",
    "    test_precision = precision_at_k(model, test_data, k=100).mean()\n",
    "    if test_precision > best_precision:\n",
    "        best_precision = test_precision\n",
    "        best_lr = lr\n",
    "\n",
    "print(best_lr)\n",
    "print(best_precision)"
   ]
  },
  {
   "cell_type": "code",
   "execution_count": 8,
   "id": "induced-transportation",
   "metadata": {},
   "outputs": [
    {
     "name": "stdout",
     "output_type": "stream",
     "text": [
      "0.08\n",
      "0.030202705\n"
     ]
    }
   ],
   "source": [
    "best_lr = 0\n",
    "best_precision = 0\n",
    "for lr in [0.01, 0.02, 0.03, 0.04, 0.05, 0.06, 0.07, 0.08, 0.02, 0.09, 0.1]:\n",
    "    model = LightFM(loss='warp-kos', learning_rate=lr)\n",
    "    model.fit(train_data, epochs=30, num_threads=7)\n",
    "    test_precision = precision_at_k(model, test_data, k=100).mean()\n",
    "    if test_precision > best_precision:\n",
    "        best_precision = test_precision\n",
    "        best_lr = lr\n",
    "\n",
    "print(best_lr)\n",
    "print(best_precision)"
   ]
  },
  {
   "cell_type": "code",
   "execution_count": 9,
   "id": "interracial-degree",
   "metadata": {},
   "outputs": [
    {
     "name": "stdout",
     "output_type": "stream",
     "text": [
      "0.1\n",
      "0.029712837\n"
     ]
    }
   ],
   "source": [
    "best_lr = 0\n",
    "best_precision = 0\n",
    "for epsilon in [1e-9, 1e-8, 1e-7, 1e-6, 1e-5, 1e-4, 1e-3]:\n",
    "    model = LightFM(loss='warp', learning_schedule=\"adadelta\", epsilon=epsilon)\n",
    "    model.fit(train_data, epochs=30, num_threads=7)\n",
    "    test_precision = precision_at_k(model, test_data, k=100).mean()\n",
    "    if test_precision > best_precision:\n",
    "        best_precision = test_precision\n",
    "        best_lr = lr\n",
    "\n",
    "print(best_lr)\n",
    "print(best_precision)"
   ]
  },
  {
   "cell_type": "code",
   "execution_count": 10,
   "id": "environmental-bullet",
   "metadata": {},
   "outputs": [
    {
     "name": "stdout",
     "output_type": "stream",
     "text": [
      "0.1\n",
      "0.026773648\n"
     ]
    }
   ],
   "source": [
    "best_lr = 0\n",
    "best_precision = 0\n",
    "for epsilon in [1e-9, 1e-8, 1e-7, 1e-6, 1e-5, 1e-4, 1e-3]:\n",
    "    model = LightFM(loss='logistic', learning_schedule=\"adadelta\", epsilon=epsilon)\n",
    "    model.fit(train_data, epochs=30, num_threads=7)\n",
    "    test_precision = precision_at_k(model, test_data, k=100).mean()\n",
    "    if test_precision > best_precision:\n",
    "        best_precision = test_precision\n",
    "        best_lr = lr\n",
    "\n",
    "print(best_lr)\n",
    "print(best_precision)"
   ]
  },
  {
   "cell_type": "code",
   "execution_count": 11,
   "id": "satisfactory-english",
   "metadata": {},
   "outputs": [
    {
     "name": "stdout",
     "output_type": "stream",
     "text": [
      "0.1\n",
      "0.02758446\n"
     ]
    }
   ],
   "source": [
    "best_lr = 0\n",
    "best_precision = 0\n",
    "for epsilon in [1e-9, 1e-8, 1e-7, 1e-6, 1e-5, 1e-4, 1e-3]:\n",
    "    model = LightFM(loss='bpr', learning_schedule=\"adadelta\", epsilon=epsilon)\n",
    "    model.fit(train_data, epochs=30, num_threads=7)\n",
    "    test_precision = precision_at_k(model, test_data, k=100).mean()\n",
    "    if test_precision > best_precision:\n",
    "        best_precision = test_precision\n",
    "        best_lr = lr\n",
    "\n",
    "print(best_lr)\n",
    "print(best_precision)"
   ]
  },
  {
   "cell_type": "code",
   "execution_count": 12,
   "id": "controversial-danger",
   "metadata": {},
   "outputs": [
    {
     "name": "stdout",
     "output_type": "stream",
     "text": [
      "0.1\n",
      "0.02939189\n"
     ]
    }
   ],
   "source": [
    "best_lr = 0\n",
    "best_precision = 0\n",
    "for epsilon in [1e-9, 1e-8, 1e-7, 1e-6, 1e-5, 1e-4, 1e-3]:\n",
    "    model = LightFM(loss='warp-kos', learning_schedule=\"adadelta\", epsilon=epsilon)\n",
    "    model.fit(train_data, epochs=30, num_threads=7)\n",
    "    test_precision = precision_at_k(model, test_data, k=100).mean()\n",
    "    if test_precision > best_precision:\n",
    "        best_precision = test_precision\n",
    "        best_lr = lr\n",
    "\n",
    "print(best_lr)\n",
    "print(best_precision)"
   ]
  },
  {
   "cell_type": "markdown",
   "id": "aggressive-champagne",
   "metadata": {},
   "source": [
    "Looks like with loss function is warp, and learning rate is 0.1 and learning schedule is adagrad, the precision at 100 is the best."
   ]
  },
  {
   "cell_type": "code",
   "execution_count": 13,
   "id": "possible-mother",
   "metadata": {},
   "outputs": [
    {
     "name": "stdout",
     "output_type": "stream",
     "text": [
      "lightfm took 3.6000640392303467s to train model with 1 threads\n",
      "lightfm took 2.011482000350952s to train model with 2 threads\n",
      "lightfm took 1.5233731269836426s to train model with 3 threads\n",
      "lightfm took 2.388899803161621s to train model with 4 threads\n",
      "lightfm took 1.6739065647125244s to train model with 5 threads\n",
      "lightfm took 1.549652099609375s to train model with 6 threads\n",
      "lightfm took 1.7245204448699951s to train model with 7 threads\n",
      "lightfm took 1.5963473320007324s to train model with 8 threads\n",
      "lightfm took 1.4991402626037598s to train model with 9 threads\n"
     ]
    }
   ],
   "source": [
    "def train_model(num_threads):\n",
    "    model = LightFM(loss='warp', learning_rate=0.1)\n",
    "    start = time()\n",
    "    model.fit(train_data, epochs=30, num_threads=num_threads)\n",
    "    print(f\"lightfm took {time() - start}s to train model with {num_threads} threads\")\n",
    "    \n",
    "# get number of threads with fastest training speed \n",
    "for i in range(1, 10):\n",
    "    train_model(i)"
   ]
  },
  {
   "cell_type": "markdown",
   "id": "becoming-briefs",
   "metadata": {},
   "source": [
    "When there're 7 threds, lightfm trains the fasted with small dataset"
   ]
  },
  {
   "cell_type": "code",
   "execution_count": 14,
   "id": "interpreted-string",
   "metadata": {},
   "outputs": [
    {
     "name": "stdout",
     "output_type": "stream",
     "text": [
      "precision at 100 is 0.03101351484656334 on test data\n"
     ]
    }
   ],
   "source": [
    "model = LightFM(loss='warp', learning_rate=0.1)\n",
    "model.fit(train_data, epochs=30, num_threads=7)\n",
    "test_precision = precision_at_k(model, test_data, k=100).mean()\n",
    "print(f\"precision at 100 is {test_precision} on test data\")"
   ]
  },
  {
   "cell_type": "code",
   "execution_count": 15,
   "id": "chief-dance",
   "metadata": {},
   "outputs": [
    {
     "name": "stdout",
     "output_type": "stream",
     "text": [
      "precision at 100 is 0.0315462201833725 on test data\n"
     ]
    }
   ],
   "source": [
    "model = LightFM(loss='warp', learning_rate=0.1)\n",
    "model.fit(train_data, epochs=30, num_threads=7)\n",
    "test_precision = precision_at_k(model, val_data, k=100).mean()\n",
    "print(f\"precision at 100 is {test_precision} on test data\")"
   ]
  },
  {
   "cell_type": "markdown",
   "id": "liquid-fabric",
   "metadata": {},
   "source": [
    "On full dataset"
   ]
  },
  {
   "cell_type": "code",
   "execution_count": 16,
   "id": "collected-finland",
   "metadata": {},
   "outputs": [],
   "source": [
    "# load data\n",
    "train_small = pd.read_csv(\"/scratch/ll4764/train_full.txt\", sep=\" \", header=None, names=[\"user_id\", \"movie_id\", \"rating\", \"timestamp\"])\n",
    "test_small = pd.read_csv(\"/scratch/ll4764/test_full.txt\", sep=\" \", header=None, names=[\"user_id\", \"movie_id\", \"rating\", \"timestamp\"])\n",
    "val_small = pd.read_csv(\"/scratch/ll4764/val_full.txt\", sep=\" \", header=None, names=[\"user_id\", \"movie_id\", \"rating\", \"timestamp\"])\n"
   ]
  },
  {
   "cell_type": "code",
   "execution_count": 17,
   "id": "standard-hygiene",
   "metadata": {},
   "outputs": [],
   "source": [
    "del train_small[\"timestamp\"]\n",
    "del test_small[\"timestamp\"]\n",
    "del val_small[\"timestamp\"]"
   ]
  },
  {
   "cell_type": "code",
   "execution_count": 18,
   "id": "talented-guard",
   "metadata": {},
   "outputs": [],
   "source": [
    "# convert data to coo matrix\n",
    "user_len = max(max(train_small[\"user_id\"].max(), test_small[\"user_id\"].max()), val_small[\"user_id\"].max()) + 1\n",
    "\n",
    "movie_len = max(max(train_small[\"movie_id\"].max(), test_small[\"movie_id\"].max()), val_small[\"movie_id\"].max()) + 1\n",
    "\n",
    "mat = sp.sparse.lil_matrix((user_len, movie_len), dtype=np.float32)\n",
    "\n",
    "for _, row in train_small.iterrows():\n",
    "    mat[int(row['user_id']), int(row['movie_id'])] = row[\"rating\"]\n",
    "\n",
    "train_data = mat.tocoo()\n",
    "\n",
    "mat = sp.sparse.lil_matrix((user_len, movie_len), dtype=np.float32)\n",
    "\n",
    "for _, row in test_small.iterrows():\n",
    "    mat[int(row['user_id']), int(row['movie_id'])] = row[\"rating\"]\n",
    "\n",
    "test_data = mat.tocoo()\n",
    "\n",
    "mat = sp.sparse.lil_matrix((user_len, movie_len), dtype=np.float32)\n",
    "\n",
    "for _, row in val_small.iterrows():\n",
    "    mat[int(row['user_id']), int(row['movie_id'])] = row[\"rating\"]\n",
    "\n",
    "val_data = mat.tocoo()"
   ]
  },
  {
   "cell_type": "code",
   "execution_count": null,
   "id": "fewer-buffer",
   "metadata": {},
   "outputs": [],
   "source": [
    "best_lr = 0\n",
    "best_precision = 0\n",
    "for lr in [0.01, 0.02, 0.03, 0.04, 0.05, 0.06, 0.07, 0.08, 0.02, 0.09, 0.1]:\n",
    "    model = LightFM(loss='warp', learning_rate=lr)\n",
    "    model.fit(train_data, epochs=30, num_threads=7)\n",
    "    test_precision = precision_at_k(model, test_data, k=100).mean()\n",
    "    if test_precision > best_precision:\n",
    "        best_precision = test_precision\n",
    "        best_lr = lr\n",
    "\n",
    "print(best_lr)\n",
    "print(best_precision)"
   ]
  },
  {
   "cell_type": "code",
   "execution_count": null,
   "id": "molecular-bottle",
   "metadata": {},
   "outputs": [],
   "source": []
  }
 ],
 "metadata": {
  "kernelspec": {
   "display_name": "Python 3",
   "language": "python",
   "name": "python3"
  },
  "language_info": {
   "codemirror_mode": {
    "name": "ipython",
    "version": 3
   },
   "file_extension": ".py",
   "mimetype": "text/x-python",
   "name": "python",
   "nbconvert_exporter": "python",
   "pygments_lexer": "ipython3",
   "version": "3.8.5"
  }
 },
 "nbformat": 4,
 "nbformat_minor": 5
}
